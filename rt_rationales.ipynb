{
 "cells": [
  {
   "cell_type": "code",
   "execution_count": 2,
   "metadata": {},
   "outputs": [
    {
     "name": "stderr",
     "output_type": "stream",
     "text": [
      "400000it [00:20, 19323.76it/s]\n"
     ]
    }
   ],
   "source": [
    "import numpy as np\n",
    "import tqdm\n",
    "embedding_path='raw_data/rotten_tomatoes/embeddings/glove.6B.200d.txt'\n",
    "lines = []\n",
    "with open(embedding_path, encoding='utf8') as file:\n",
    "    lines = file.readlines()\n",
    "    file.close()\n",
    "embedding_tensor = []\n",
    "token2id = {}\n",
    "token2id['<unk>'] = 0\n",
    "token2id['<pad>'] = 1\n",
    "for id, l in tqdm.tqdm(enumerate(lines)):\n",
    "    word, emb = l.split()[0], l.split()[1:]\n",
    "    vector = [float(x) for x in emb ]\n",
    "    if id == 0:\n",
    "        embedding_tensor.append( np.zeros( len(vector) ) )\n",
    "        embedding_tensor.append( np.zeros( len(vector) ) )\n",
    "    embedding_tensor.append(vector)\n",
    "    token2id[word] = id+2\n",
    "embedding_tensor = np.array(embedding_tensor, dtype=np.float32)"
   ]
  },
  {
   "cell_type": "code",
   "execution_count": 36,
   "metadata": {},
   "outputs": [],
   "source": [
    "import pandas as pd\n",
    "from utils.embedding import get_indices_tensor\n",
    "from utils.contractions import CONTRACTIONS_DICT\n",
    "import re\n",
    "def clean_punctuation(text):\n",
    "    text = re.sub(\"\"\"([!\"#$%&'()*+, -./:;<=>?@[\\]^_`{|}~])\"\"\", r' \\1 ', text)\n",
    "    text = re.sub('\\s{2,}', ' ', text)\n",
    "    return text\n",
    "def expand_contractions(text):\n",
    "    contractions_re=re.compile('(%s)' % '|'.join(CONTRACTIONS_DICT.keys()))\n",
    "    def replace(match):\n",
    "        return CONTRACTIONS_DICT[match.group(0)]\n",
    "    return contractions_re.sub(replace, text)\n",
    "def clean_spaces(text):\n",
    "    text = \" \".join(text.split())\n",
    "    return text\n",
    "root_path = 'raw_data/rotten_tomatoes/data/audience_reviews.csv'\n",
    "df = pd.read_csv(root_path).dropna()\n",
    "df['text']= df['Review'].apply(lambda x: x.lower())\n",
    "df['text']=df['text'].apply(lambda x:expand_contractions(x))\n",
    "df['text'] = df['text'].apply(lambda x:clean_spaces(x))\n",
    "df['text']= df['text'].apply(lambda x:clean_punctuation(x))\n",
    "df['text_list']= df['text'].apply(lambda x: x.split())\n",
    "df['y'] = df['Rating'].apply(lambda x: x/5)\n",
    "df['id'] = range(0, len(df))\n",
    "df['x'] = df['text_list'].apply(lambda x: get_indices_tensor(x, token2id, 250))"
   ]
  },
  {
   "cell_type": "code",
   "execution_count": 39,
   "metadata": {},
   "outputs": [],
   "source": [
    "df.reset_index(drop=True, inplace=True)"
   ]
  },
  {
   "cell_type": "code",
   "execution_count": 40,
   "metadata": {},
   "outputs": [
    {
     "data": {
      "text/html": [
       "<div>\n",
       "<style scoped>\n",
       "    .dataframe tbody tr th:only-of-type {\n",
       "        vertical-align: middle;\n",
       "    }\n",
       "\n",
       "    .dataframe tbody tr th {\n",
       "        vertical-align: top;\n",
       "    }\n",
       "\n",
       "    .dataframe thead th {\n",
       "        text-align: right;\n",
       "    }\n",
       "</style>\n",
       "<table border=\"1\" class=\"dataframe\">\n",
       "  <thead>\n",
       "    <tr style=\"text-align: right;\">\n",
       "      <th></th>\n",
       "      <th>Show</th>\n",
       "      <th>Rating</th>\n",
       "      <th>Review</th>\n",
       "      <th>text</th>\n",
       "      <th>text_list</th>\n",
       "      <th>y</th>\n",
       "      <th>id</th>\n",
       "      <th>x</th>\n",
       "    </tr>\n",
       "  </thead>\n",
       "  <tbody>\n",
       "    <tr>\n",
       "      <th>0</th>\n",
       "      <td>Loot</td>\n",
       "      <td>2.5</td>\n",
       "      <td>I love the stars, but the show is riddled with...</td>\n",
       "      <td>i love the stars , but the show is riddled wit...</td>\n",
       "      <td>[i, love, the, stars, ,, but, the, show, is, r...</td>\n",
       "      <td>0.5</td>\n",
       "      <td>1</td>\n",
       "      <td>[[tensor(43), tensor(837), tensor(2), tensor(1...</td>\n",
       "    </tr>\n",
       "    <tr>\n",
       "      <th>1</th>\n",
       "      <td>Loot</td>\n",
       "      <td>4.5</td>\n",
       "      <td>Great show to watch. It's something that's eas...</td>\n",
       "      <td>great show to watch . it is something that is ...</td>\n",
       "      <td>[great, show, to, watch, ., it, is, something,...</td>\n",
       "      <td>0.9</td>\n",
       "      <td>2</td>\n",
       "      <td>[[tensor(355), tensor(275), tensor(6), tensor(...</td>\n",
       "    </tr>\n",
       "    <tr>\n",
       "      <th>2</th>\n",
       "      <td>Loot</td>\n",
       "      <td>0.5</td>\n",
       "      <td>Another Apple tanker crashes into the reef wit...</td>\n",
       "      <td>another apple tanker crashes into the reef wit...</td>\n",
       "      <td>[another, apple, tanker, crashes, into, the, r...</td>\n",
       "      <td>0.1</td>\n",
       "      <td>3</td>\n",
       "      <td>[[tensor(172), tensor(3294), tensor(8406), ten...</td>\n",
       "    </tr>\n",
       "    <tr>\n",
       "      <th>3</th>\n",
       "      <td>Loot</td>\n",
       "      <td>4.5</td>\n",
       "      <td>This is such a fun, endearing show.  It has a ...</td>\n",
       "      <td>this is such a fun , endearing show . it has a...</td>\n",
       "      <td>[this, is, such, a, fun, ,, endearing, show, ....</td>\n",
       "      <td>0.9</td>\n",
       "      <td>4</td>\n",
       "      <td>[[tensor(39), tensor(16), tensor(127), tensor(...</td>\n",
       "    </tr>\n",
       "    <tr>\n",
       "      <th>4</th>\n",
       "      <td>Loot</td>\n",
       "      <td>0.5</td>\n",
       "      <td>Terrible show - didn't laugh once. Acting is s...</td>\n",
       "      <td>terrible show - did not laugh once . acting is...</td>\n",
       "      <td>[terrible, show, -, did, not, laugh, once, ., ...</td>\n",
       "      <td>0.1</td>\n",
       "      <td>5</td>\n",
       "      <td>[[tensor(5512), tensor(275), tensor(13), tenso...</td>\n",
       "    </tr>\n",
       "  </tbody>\n",
       "</table>\n",
       "</div>"
      ],
      "text/plain": [
       "   Show  Rating                                             Review  \\\n",
       "0  Loot     2.5  I love the stars, but the show is riddled with...   \n",
       "1  Loot     4.5  Great show to watch. It's something that's eas...   \n",
       "2  Loot     0.5  Another Apple tanker crashes into the reef wit...   \n",
       "3  Loot     4.5  This is such a fun, endearing show.  It has a ...   \n",
       "4  Loot     0.5  Terrible show - didn't laugh once. Acting is s...   \n",
       "\n",
       "                                                text  \\\n",
       "0  i love the stars , but the show is riddled wit...   \n",
       "1  great show to watch . it is something that is ...   \n",
       "2  another apple tanker crashes into the reef wit...   \n",
       "3  this is such a fun , endearing show . it has a...   \n",
       "4  terrible show - did not laugh once . acting is...   \n",
       "\n",
       "                                           text_list    y  id  \\\n",
       "0  [i, love, the, stars, ,, but, the, show, is, r...  0.5   1   \n",
       "1  [great, show, to, watch, ., it, is, something,...  0.9   2   \n",
       "2  [another, apple, tanker, crashes, into, the, r...  0.1   3   \n",
       "3  [this, is, such, a, fun, ,, endearing, show, ....  0.9   4   \n",
       "4  [terrible, show, -, did, not, laugh, once, ., ...  0.1   5   \n",
       "\n",
       "                                                   x  \n",
       "0  [[tensor(43), tensor(837), tensor(2), tensor(1...  \n",
       "1  [[tensor(355), tensor(275), tensor(6), tensor(...  \n",
       "2  [[tensor(172), tensor(3294), tensor(8406), ten...  \n",
       "3  [[tensor(39), tensor(16), tensor(127), tensor(...  \n",
       "4  [[tensor(5512), tensor(275), tensor(13), tenso...  "
      ]
     },
     "execution_count": 40,
     "metadata": {},
     "output_type": "execute_result"
    }
   ],
   "source": [
    "df.head()"
   ]
  },
  {
   "cell_type": "code",
   "execution_count": 253,
   "metadata": {},
   "outputs": [],
   "source": [
    "j = 183#manually change this"
   ]
  },
  {
   "cell_type": "code",
   "execution_count": null,
   "metadata": {},
   "outputs": [],
   "source": [
    "text_list = df['text_list'][j]\n",
    "rating = df['Rating'][j]\n",
    "print(rating)\n",
    "text_df = {\"text\": text_list, \"idx\": np.arange(len(text_list))}\n",
    "text_df = pd.DataFrame(text_df)\n",
    "print(text_df.to_string())"
   ]
  },
  {
   "cell_type": "code",
   "execution_count": null,
   "metadata": {},
   "outputs": [],
   "source": [
    "#manually add to sheet j, list of list of sentence indices start and end\n",
    "#e.g. 0, [[0, 23], [52, 58]]\n",
    "#choose which sentences make sense (1/4-3/4 of the review)\n",
    "#skip any index that's too short or doesn't have punctuation to mark sentences\n",
    "#get a mix of positive mixed negative reviews"
   ]
  },
  {
   "cell_type": "code",
   "execution_count": 255,
   "metadata": {},
   "outputs": [],
   "source": [
    "import pickle\n",
    "import json"
   ]
  },
  {
   "cell_type": "code",
   "execution_count": null,
   "metadata": {},
   "outputs": [],
   "source": [
    "results = pickle.load(open('review_data/rotten_tomatoes/rationale_args_dict.pkl','rb'))\n",
    "rationales = results['test_stats']['rationales']"
   ]
  },
  {
   "cell_type": "code",
   "execution_count": null,
   "metadata": {},
   "outputs": [],
   "source": [
    "true_positive_running_count = 0\n",
    "false_positive_running_count = 0\n",
    "annotations = pd.read_csv('raw_data/rotten_tomatoes/annotations/annotations.csv')\n",
    "for i, rationale in enumerate(rationales):\n",
    "    rationale_list = rationale.split(\" \")\n",
    "    rationale_ids = [token_id for token_id, token in enumerate(rationale_list) if token != '_']\n",
    "    annotation_ids = []\n",
    "    for annotation in annotations.iloc[[i]]['annotations']:\n",
    "        annotation_ids += list(range(annotation[0], annotation[1]))\n",
    "    for rationale_id in rationale_ids:\n",
    "        if rationale_id in annotation_ids:\n",
    "            true_positive_running_count += 1\n",
    "        else:\n",
    "            false_positive_running_count += 1\n",
    "precision = true_positive_running_count/(true_positive_running_count + false_positive_running_count)\n",
    "print(precision)"
   ]
  }
 ],
 "metadata": {
  "kernelspec": {
   "display_name": "Python 3.8.8 ('base')",
   "language": "python",
   "name": "python3"
  },
  "language_info": {
   "codemirror_mode": {
    "name": "ipython",
    "version": 3
   },
   "file_extension": ".py",
   "mimetype": "text/x-python",
   "name": "python",
   "nbconvert_exporter": "python",
   "pygments_lexer": "ipython3",
   "version": "3.8.8"
  },
  "orig_nbformat": 4,
  "vscode": {
   "interpreter": {
    "hash": "4e32a8dc05f3b83e8cf8163900a5cb215c884b85b7bbba96080dd074fb736c57"
   }
  }
 },
 "nbformat": 4,
 "nbformat_minor": 2
}
