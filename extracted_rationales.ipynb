{
 "cells": [
  {
   "cell_type": "code",
   "execution_count": 119,
   "metadata": {},
   "outputs": [],
   "source": [
    "import pickle\n",
    "import json"
   ]
  },
  {
   "cell_type": "code",
   "execution_count": 120,
   "metadata": {},
   "outputs": [],
   "source": [
    "results = pickle.load(open('review_data/beer_advocate/rationale_args_dict.pkl','rb'))\n",
    "rationales = results['test_stats']['rationales']"
   ]
  },
  {
   "cell_type": "code",
   "execution_count": 121,
   "metadata": {},
   "outputs": [
    {
     "name": "stdout",
     "output_type": "stream",
     "text": [
      "0.1593625498007968\n"
     ]
    }
   ],
   "source": [
    "true_positive_running_count = 0\n",
    "false_positive_running_count = 0\n",
    "annotations = [json.loads(line) for line in open('raw_data/beer_advocate/annotations/annotations.json', 'r', encoding='utf-8')]\n",
    "aspects_id_map = {'appearance': '0', 'aroma': '1' , 'palate': '2'}\n",
    "aspect = results['aspect']\n",
    "for i, rationale in enumerate(rationales):\n",
    "    rationale_list = rationale.split(\" \")\n",
    "    rationale_ids = [token_id for token_id, token in enumerate(rationale_list) if token != '_']\n",
    "    annotation_ids = []\n",
    "    for annotation in annotations[i][aspects_id_map[aspect]]:\n",
    "        annotation_ids += list(range(annotation[0], annotation[1]))\n",
    "    for rationale_id in rationale_ids:\n",
    "        if rationale_id in annotation_ids:\n",
    "            true_positive_running_count += 1\n",
    "        else:\n",
    "            false_positive_running_count += 1\n",
    "precision = true_positive_running_count/(true_positive_running_count + false_positive_running_count)\n",
    "print(precision)\n",
    "        "
   ]
  }
 ],
 "metadata": {
  "kernelspec": {
   "display_name": "Python 3.9.6 64-bit",
   "language": "python",
   "name": "python3"
  },
  "language_info": {
   "codemirror_mode": {
    "name": "ipython",
    "version": 3
   },
   "file_extension": ".py",
   "mimetype": "text/x-python",
   "name": "python",
   "nbconvert_exporter": "python",
   "pygments_lexer": "ipython3",
   "version": "3.9.6"
  },
  "orig_nbformat": 4,
  "vscode": {
   "interpreter": {
    "hash": "810eadbe619ca2ad193fd0c1c00936df6e00d92fae6c19534e04fffbf3fb2f81"
   }
  }
 },
 "nbformat": 4,
 "nbformat_minor": 2
}
